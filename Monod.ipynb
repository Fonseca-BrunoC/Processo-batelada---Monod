{
  "nbformat": 4,
  "nbformat_minor": 0,
  "metadata": {
    "colab": {
      "name": "Monod.ipynb",
      "provenance": [],
      "collapsed_sections": [],
      "authorship_tag": "ABX9TyPVfLpkU+QCHwkMdfvcTp7I",
      "include_colab_link": true
    },
    "kernelspec": {
      "name": "python3",
      "display_name": "Python 3"
    },
    "language_info": {
      "name": "python"
    }
  },
  "cells": [
    {
      "cell_type": "markdown",
      "metadata": {
        "id": "view-in-github",
        "colab_type": "text"
      },
      "source": [
        "<a href=\"https://colab.research.google.com/github/Fonseca-BrunoC/Processo-batelada---Monod/blob/main/Monod.ipynb\" target=\"_parent\"><img src=\"https://colab.research.google.com/assets/colab-badge.svg\" alt=\"Open In Colab\"/></a>"
      ]
    },
    {
      "cell_type": "markdown",
      "metadata": {
        "id": "PpBd7YfsfhZw"
      },
      "source": [
        "# ***Processo batelada a partir da equação de Monod***\n"
      ]
    },
    {
      "cell_type": "code",
      "metadata": {
        "id": "Gq4mqSQGev2D"
      },
      "source": [
        "#Importando as bibliotecas\n",
        "import numpy as np\n",
        "import matplotlib.pyplot as plt\n",
        "from scipy.integrate import odeint\n",
        "from IPython.display import Image"
      ],
      "execution_count": 196,
      "outputs": []
    },
    {
      "cell_type": "code",
      "metadata": {
        "id": "09sUNv3TdQ2e"
      },
      "source": [
        "img1 = Image(filename='eq_mi_monod.PNG')\n",
        "img2 = Image(filename='eq_cel_monod.PNG')\n",
        "img3 = Image(filename='eq_subst_monod.PNG')"
      ],
      "execution_count": 197,
      "outputs": []
    },
    {
      "cell_type": "markdown",
      "metadata": {
        "id": "wjnqN6dbgLzT"
      },
      "source": [
        "## Por Monod, mi não é mais constante e depende do substrato"
      ]
    },
    {
      "cell_type": "code",
      "metadata": {
        "colab": {
          "base_uri": "https://localhost:8080/",
          "height": 163
        },
        "id": "agXvfQwXf4_a",
        "outputId": "68d2b670-e534-462b-ed11-894031179e5f"
      },
      "source": [
        "img1"
      ],
      "execution_count": 198,
      "outputs": [
        {
          "output_type": "execute_result",
          "data": {
            "image/png": "[encoded data removed]",
            "text/plain": [
              "<IPython.core.display.Image object>"
            ]
          },
          "metadata": {},
          "execution_count": 198
        }
      ]
    },
    {
      "cell_type": "markdown",
      "metadata": {
        "id": "hDCnBD7GgeJH"
      },
      "source": [
        "## Com isso, a equação para a variação celular assume uma nova forma"
      ]
    },
    {
      "cell_type": "code",
      "metadata": {
        "colab": {
          "base_uri": "https://localhost:8080/",
          "height": 156
        },
        "id": "503lOPPefXev",
        "outputId": "c94d4ced-b0e3-4da7-b15f-f571511d97bf"
      },
      "source": [
        "img2"
      ],
      "execution_count": 200,
      "outputs": [
        {
          "output_type": "execute_result",
          "data": {
            "image/png": "[encoded data removed]",
            "text/plain": [
              "<IPython.core.display.Image object>"
            ]
          },
          "metadata": {},
          "execution_count": 200
        }
      ]
    },
    {
      "cell_type": "markdown",
      "metadata": {
        "id": "c3seFyihgy1E"
      },
      "source": [
        "## Como a variação celular agora depende do substrato, é necessário também equacionar a variação do substrato no sistema"
      ]
    },
    {
      "cell_type": "code",
      "metadata": {
        "colab": {
          "base_uri": "https://localhost:8080/",
          "height": 137
        },
        "id": "fp-2ca7WhDHW",
        "outputId": "5ab13a37-236a-414c-c22a-951f2416528b"
      },
      "source": [
        "img3"
      ],
      "execution_count": 201,
      "outputs": [
        {
          "output_type": "execute_result",
          "data": {
            "image/png": "[encoded data removed]",
            "text/plain": [
              "<IPython.core.display.Image object>"
            ]
          },
          "metadata": {},
          "execution_count": 201
        }
      ]
    },
    {
      "cell_type": "code",
      "metadata": {
        "id": "-OwrAWOCxu0c"
      },
      "source": [
        "#Definindo as condições\n",
        "mimax = 0.5 #unidade 1/hora - taxa específica de crescimento\n",
        "Ks = 1.5 #constante de semi-saturação\n",
        "Cx0 = 1.0 #  concentração inicial de microrganismo\n",
        "Cs0 = 50.0 #concentração inicial de substrato\n",
        "Yxs = 0.5 #coeficiente estequiométrico\n",
        "kd = 0.05 #constante de morte celular"
      ],
      "execution_count": 199,
      "outputs": []
    },
    {
      "cell_type": "code",
      "metadata": {
        "id": "iCu0D3D9iv-j"
      },
      "source": [
        "#Definindo a EDO\n",
        "def edo(C, t):  \n",
        "  Cx, Cs = C\n",
        "  mi = mimax * (Cs / (Ks + Cs)) #Monod\n",
        "  dCxdt = (mi - kd) * Cx #eq para célula\n",
        "  dCsdt = - (1/Yxs) * (mi - kd) * Cx #eq para o substrato\n",
        "  return dCxdt, dCsdt"
      ],
      "execution_count": 202,
      "outputs": []
    },
    {
      "cell_type": "code",
      "metadata": {
        "id": "APUALu58mGEm"
      },
      "source": [
        "#Definindo a solução da edo\n",
        "t = np.linspace(0, 15, 200) #vetor tempo em horas\n",
        "ConcentI = Cx0, Cs0\n",
        "sol = odeint(edo, ConcentI, t)"
      ],
      "execution_count": 203,
      "outputs": []
    },
    {
      "cell_type": "code",
      "metadata": {
        "id": "iSzQDMuXypZQ"
      },
      "source": [
        "Cx = sol[:,0]\n",
        "##Vetor com a concentração de substrato\n",
        "Cs = sol[:,1]"
      ],
      "execution_count": 204,
      "outputs": []
    },
    {
      "cell_type": "code",
      "metadata": {
        "colab": {
          "base_uri": "https://localhost:8080/",
          "height": 352
        },
        "id": "LQwxPuEbo41B",
        "outputId": "6eab5662-f5f0-44a0-9c32-7e6b9cdc2d01"
      },
      "source": [
        "#Plotando o gráfico da solução\n",
        "f = plt.figure()     \n",
        "ax = f.add_subplot(111)  \n",
        "plt.rc('axes', titlesize=15)     \n",
        "plt.rc('axes', labelsize=10)   \n",
        "func1 = ax.plot(t, Cx, 'r-', linewidth = 2, label = 'Cx')\n",
        "func2 = ax.plot(t, Cs, 'b-', linewidth = 2, label = 'Cs')\n",
        "ax.set_title(\"CRESCIMENTO CELULAR\", weight ='bold')  \n",
        "ax.set_xlabel('Tempo (h)',weight='bold')               \n",
        "ax.set_ylabel('Concentração (g/L)', weight='bold')\n",
        "ax.grid(True)  \n",
        "plt.rc('legend', fontsize=13) \n",
        "ax.legend()\n",
        "f.set_figheight(5)                                                 \n",
        "f.set_figwidth(8)          \n",
        "plt.show()"
      ],
      "execution_count": 205,
      "outputs": [
        {
          "output_type": "display_data",
          "data": {
            "image/png": "[encoded data removed]",
            "text/plain": [
              "<Figure size 576x360 with 1 Axes>"
            ]
          },
          "metadata": {
            "needs_background": "light"
          }
        }
      ]
    }
  ]
}
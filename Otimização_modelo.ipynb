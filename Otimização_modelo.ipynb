{
  "nbformat": 4,
  "nbformat_minor": 0,
  "metadata": {
    "colab": {
      "name": "Otimização-modelo.ipynb",
      "provenance": [],
      "collapsed_sections": [],
      "authorship_tag": "ABX9TyPtoqeEAOTU12xb2QVxP/ND",
      "include_colab_link": true
    },
    "kernelspec": {
      "name": "python3",
      "display_name": "Python 3"
    },
    "language_info": {
      "name": "python"
    }
  },
  "cells": [
    {
      "cell_type": "markdown",
      "metadata": {
        "id": "view-in-github",
        "colab_type": "text"
      },
      "source": [
        "<a href=\"https://colab.research.google.com/github/Fonseca-BrunoC/Processo-batelada---Monod/blob/main/Otimiza%C3%A7%C3%A3o_modelo.ipynb\" target=\"_parent\"><img src=\"https://colab.research.google.com/assets/colab-badge.svg\" alt=\"Open In Colab\"/></a>"
      ]
    },
    {
      "cell_type": "code",
      "execution_count": 367,
      "metadata": {
        "id": "UOoM3znhjzse"
      },
      "outputs": [],
      "source": [
        "#Importando as bibliotecas\n",
        "import numpy as np\n",
        "import matplotlib.pyplot as plt\n",
        "from scipy.optimize import differential_evolution\n",
        "from scipy.integrate import odeint"
      ]
    },
    {
      "cell_type": "code",
      "source": [
        "mimax = 0.5 #unidade 1/hora - taxa específica de crescimento\n",
        "Ks = 1.5 #constante de semi-saturação\n",
        "Yxs = 0.5 #coeficiente estequiométrico\n",
        "kd = 0.05 #constante de morte celular\n",
        "alfa = 0.5 #constante do produto associado ao crescimento\n",
        "beta = 0.2 #constante do produto não associado ao crescimento\n",
        "t = np.linspace(0, 24, 500)"
      ],
      "metadata": {
        "id": "9cy_mGCOqQIR"
      },
      "execution_count": 368,
      "outputs": []
    },
    {
      "cell_type": "code",
      "source": [
        "#Definindo as EDO's\n",
        "#Essa função será utilizada tanto para estimar os parâmetros quanto para testa-los\n",
        "def edo(C, t):\n",
        "  mi = mimax * (C[1] / (Ks + C[1])) #Monod\n",
        "  dCxdt = (mi - kd) * C[0] #eq para célula\n",
        "  dCsdt = - (1/Yxs) * (mi - kd) * C[0] #eq para o substrato\n",
        "  dCpdt = ((alfa * mi) + beta ) * C[0] #eq do produto parcialmente associado ao crescimento\n",
        "  return dCxdt, dCsdt, dCpdt"
      ],
      "metadata": {
        "id": "bKBX-C99j8z5"
      },
      "execution_count": 369,
      "outputs": []
    },
    {
      "cell_type": "code",
      "source": [
        "#Definindo a função resíduo que será aplicada na evolução diferencial\n",
        "objetivo = 30\n",
        "def rmse(I):\n",
        "  CI = I[0], I[1], 0\n",
        "  sim = odeint(edo, y0 = CI, t = t)\n",
        "  P = sim[:,2]\n",
        "  residuo = P[-1] - objetivo\n",
        "  residuo = np.sqrt((residuo ** 2))\n",
        "  return residuo"
      ],
      "metadata": {
        "id": "gz4_Fw49rSu6"
      },
      "execution_count": 370,
      "outputs": []
    },
    {
      "cell_type": "code",
      "source": [
        "limites = [(0, 10),(0, 100)] #limites para cada um dos parâmetros \n",
        "result = []\n",
        "n = 0\n",
        "while n <= 100:\n",
        "  ci = differential_evolution(rmse, limites, popsize=5,  tol=0.01, mutation=(0.5, 1), recombination=0.7, updating='immediate') #aplicando a evolução diferencial\n",
        "  Ci = ci.x\n",
        "  if Ci[0] > (Ci[1] / 2):\n",
        "    n = n\n",
        "  else:\n",
        "    result.append(Ci)\n",
        "    n = n + 1\n",
        "matrix_result = np.array(result)\n",
        "#print(matrix_result)"
      ],
      "metadata": {
        "id": "DO1Y6kQo22PI"
      },
      "execution_count": 371,
      "outputs": []
    },
    {
      "cell_type": "code",
      "source": [
        "custo = np.array([])\n",
        "for i in range(0,100):\n",
        "  r = (matrix_result[i,1]*60) + (matrix_result[i,0]*20) #consideradno o g/l de cx 60 reais e cs 20\n",
        "  custo = np.append(custo, r)\n",
        "\n",
        "min = np.min(custo)\n",
        "lmin = np.where(custo == min)  \n",
        "melhor_comb = matrix_result[lmin] \n",
        "#print(custo)\n",
        "#print(min)\n",
        "#print(lmin)\n",
        "print(melhor_comb, min)"
      ],
      "metadata": {
        "colab": {
          "base_uri": "https://localhost:8080/"
        },
        "id": "S5GD_nM6_uFL",
        "outputId": "6c15ffa1-4773-4d64-91db-5bb63ecaa86a"
      },
      "execution_count": 372,
      "outputs": [
        {
          "output_type": "stream",
          "name": "stdout",
          "text": [
            "[[2.75114582 5.57122822]] 389.29660962360003\n"
          ]
        }
      ]
    },
    {
      "cell_type": "code",
      "source": [
        "#testando os resultados com uma simulação\n",
        "def edo2(C, t):\n",
        "  mi = mimax * (C[1] / (Ks + C[1])) #Monod\n",
        "  dCxdt = (mi - kd) * C[0] #eq para célula\n",
        "  dCsdt = - (1/Yxs) * (mi - kd) * C[0] #eq para o substrato\n",
        "  dCpdt = ((alfa * mi) + beta ) * C[0] #eq do produto parcialmente associado ao crescimento\n",
        "  return dCxdt, dCsdt, dCpdt"
      ],
      "metadata": {
        "id": "CazLgY4V-C1h"
      },
      "execution_count": 373,
      "outputs": []
    },
    {
      "cell_type": "code",
      "source": [
        "ts = np.linspace(0, 24, 300) #vetor tempo em horas\n",
        "Cis = (melhor_comb[0,0], melhor_comb[0,1], 0)\n",
        "sol = odeint(edo, Cis, ts)\n",
        "\n",
        "#Vetor com a concentração de células\n",
        "Cx = sol[:,0]\n",
        "#Vetor com a concentração de substrato\n",
        "Cs = sol[:,1]\n",
        "#Vetors com as concentrações de produto\n",
        "Cp = sol[:,2]"
      ],
      "metadata": {
        "id": "jowgpv-S-ORK"
      },
      "execution_count": 374,
      "outputs": []
    },
    {
      "cell_type": "code",
      "source": [
        "#Plotando o gráfico da solução\n",
        "f = plt.figure()     \n",
        "ax = f.add_subplot(111)  \n",
        "plt.rc('axes', titlesize=15)     \n",
        "plt.rc('axes', labelsize=10)   \n",
        "func = ax.plot(ts, Cx, 'r-', linewidth = 2, label ='Cx')\n",
        "func2 = ax.plot(ts, Cs, 'b-', linewidth = 2, label= 'Cs')\n",
        "func3 = ax.plot(ts, Cp, 'g-', linewidth = 2, label = 'Cp')\n",
        "ax.set_title(\"MODELO OTIMIZADO - PARCIALMENTE ASSOCIADO AO CRESCIMENTO\", weight ='bold')  \n",
        "ax.set_xlabel('Tempo (h)',weight='bold')               \n",
        "ax.set_ylabel('Concentração (g/L)', weight='bold')\n",
        "ax.grid(True)  \n",
        "ax.legend(loc='upper center',ncol=2, shadow=True)\n",
        "f.set_figheight(5)                                                 \n",
        "f.set_figwidth(8)          \n",
        "plt.show()"
      ],
      "metadata": {
        "colab": {
          "base_uri": "https://localhost:8080/",
          "height": 352
        },
        "id": "0-4dsa73-l_P",
        "outputId": "515e6dee-c94c-4aac-d3bf-344f898a80b7"
      },
      "execution_count": 375,
      "outputs": [
        {
          "output_type": "display_data",
          "data": {
            "text/plain": [
              "<Figure size 576x360 with 1 Axes>"
            ],
            "image/png": "[encoded data removed]"
          },
          "metadata": {
            "needs_background": "light"
          }
        }
      ]
    }
  ]
}
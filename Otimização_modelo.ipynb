{
  "nbformat": 4,
  "nbformat_minor": 0,
  "metadata": {
    "colab": {
      "name": "Otimização-modelo.ipynb",
      "provenance": [],
      "collapsed_sections": [],
      "authorship_tag": "ABX9TyMxpcSkoP3mrOKudN7gIRCS",
      "include_colab_link": true
    },
    "kernelspec": {
      "name": "python3",
      "display_name": "Python 3"
    },
    "language_info": {
      "name": "python"
    }
  },
  "cells": [
    {
      "cell_type": "markdown",
      "metadata": {
        "id": "view-in-github",
        "colab_type": "text"
      },
      "source": [
        "<a href=\"https://colab.research.google.com/github/Fonseca-BrunoC/Processo-batelada---Monod/blob/main/Otimiza%C3%A7%C3%A3o_modelo.ipynb\" target=\"_parent\"><img src=\"https://colab.research.google.com/assets/colab-badge.svg\" alt=\"Open In Colab\"/></a>"
      ]
    },
    {
      "cell_type": "code",
      "execution_count": 154,
      "metadata": {
        "id": "UOoM3znhjzse"
      },
      "outputs": [],
      "source": [
        "#Importando as bibliotecas\n",
        "import numpy as np\n",
        "import matplotlib.pyplot as plt\n",
        "from scipy.optimize import differential_evolution\n",
        "from scipy.integrate import odeint"
      ]
    },
    {
      "cell_type": "code",
      "source": [
        "mimax = 0.5 #unidade 1/hora - taxa específica de crescimento\n",
        "Ks = 1.5 #constante de semi-saturação\n",
        "Yxs = 0.5 #coeficiente estequiométrico\n",
        "kd = 0.05 #constante de morte celular\n",
        "alfa = 0.5 #constante do produto associado ao crescimento\n",
        "beta = 0.2 #constante do produto não associado ao crescimento\n",
        "t = np.linspace(0, 24, 500) #vetor tempo com t final de 24 horas"
      ],
      "metadata": {
        "id": "9cy_mGCOqQIR"
      },
      "execution_count": 155,
      "outputs": []
    },
    {
      "cell_type": "code",
      "source": [
        "#Definindo as EDO's\n",
        "#Essa função será utilizada tanto para estimar os parâmetros quanto para testa-los\n",
        "def edo(C, t):\n",
        "  mi = mimax * (C[1] / (Ks + C[1])) #Monod\n",
        "  dCxdt = (mi - kd) * C[0] #eq para célula\n",
        "  dCsdt = - (1/Yxs) * (mi - kd) * C[0] #eq para o substrato\n",
        "  dCpdt = (alfa * mi)  * C[0] #eq do produto parcialmente associado ao crescimento\n",
        "  return dCxdt, dCsdt, dCpdt"
      ],
      "metadata": {
        "id": "bKBX-C99j8z5"
      },
      "execution_count": 156,
      "outputs": []
    },
    {
      "cell_type": "code",
      "source": [
        "#Definindo a função resíduo que será aplicada na evolução diferencial\n",
        "objetivo = 30\n",
        "def rmse(I):\n",
        "  CI = I[0], I[1], 0\n",
        "  sim = odeint(edo, y0 = CI, t = t)\n",
        "  P = sim[:,2]\n",
        "  residuo = P[-1] - objetivo\n",
        "  residuo = residuo ** 2\n",
        "  return residuo"
      ],
      "metadata": {
        "id": "gz4_Fw49rSu6"
      },
      "execution_count": 157,
      "outputs": []
    },
    {
      "cell_type": "code",
      "source": [
        "limites = [(0, 10),(0, 100)] #limites para cada um dos parâmetros \n",
        "result = []\n",
        "n = 0\n",
        "while n <= 25: #cada resultado da evolução diferencial gera combinações diferentes, sendo assim vamos gerar 25 combinações e escolher a de menor custo \n",
        "  ci = differential_evolution(rmse, limites, popsize=5,  tol=0.01, mutation=(0.5, 1), recombination=0.7, updating='immediate') #aplicando a evolução diferencial\n",
        "  Ci = ci.x\n",
        "  if Ci[0] > (Ci[1] / 2):\n",
        "    n = n\n",
        "  else:\n",
        "    result.append(Ci)\n",
        "    n = n + 1\n",
        "matriz_result = np.array(result)"
      ],
      "metadata": {
        "id": "DO1Y6kQo22PI"
      },
      "execution_count": 158,
      "outputs": []
    },
    {
      "cell_type": "code",
      "source": [
        "custo = np.array([])\n",
        "for i in range(0,25):\n",
        "  r = (matriz_result[i,0]*60) + (matriz_result[i,1]*20) #considerando o g/l de cx 60 reais e cs 20\n",
        "  custo = np.append(custo, r)\n",
        "\n",
        "min = np.min(custo)\n",
        "lmin = np.where(custo == min)  \n",
        "melhor_comb = matriz_result[lmin] \n",
        "#print(custo)\n",
        "#print(min)\n",
        "#print(lmin)\n",
        "print(melhor_comb, min)"
      ],
      "metadata": {
        "colab": {
          "base_uri": "https://localhost:8080/"
        },
        "id": "S5GD_nM6_uFL",
        "outputId": "f3eab03b-9ba3-44fd-9c18-de39500ab3bf"
      },
      "execution_count": 159,
      "outputs": [
        {
          "output_type": "stream",
          "name": "stdout",
          "text": [
            "[[ 1.53204288 59.84906815]] 1288.9039356706242\n"
          ]
        }
      ]
    },
    {
      "cell_type": "code",
      "source": [
        "#testando os resultados com uma simulação\n",
        "def edo2(C, t):\n",
        "  mi = mimax * (C[1] / (Ks + C[1])) #Monod\n",
        "  dCxdt = (mi - kd) * C[0] #eq para célula\n",
        "  dCsdt = - (1/Yxs) * (mi - kd) * C[0] #eq para o substrato\n",
        "  dCpdt = (alfa * mi)  * C[0] #eq do produto parcialmente associado ao crescimento\n",
        "  return dCxdt, dCsdt, dCpdt"
      ],
      "metadata": {
        "id": "CazLgY4V-C1h"
      },
      "execution_count": 160,
      "outputs": []
    },
    {
      "cell_type": "code",
      "source": [
        "ts = np.linspace(0, 24, 500) #vetor tempo em horas\n",
        "Cis = (melhor_comb[0,0], melhor_comb[0,1], 0)\n",
        "sol = odeint(edo, Cis, ts)\n",
        "\n",
        "#Vetor com a concentração de células\n",
        "Cx = sol[:,0]\n",
        "#Vetor com a concentração de substrato\n",
        "Cs = sol[:,1]\n",
        "#Vetors com as concentrações de produto\n",
        "Cp = sol[:,2]"
      ],
      "metadata": {
        "id": "jowgpv-S-ORK"
      },
      "execution_count": 161,
      "outputs": []
    },
    {
      "cell_type": "code",
      "source": [
        "#Plotando o gráfico da simulação\n",
        "f = plt.figure()     \n",
        "ax = f.add_subplot(111)  \n",
        "plt.rc('axes', titlesize=15)     \n",
        "plt.rc('axes', labelsize=10)   \n",
        "func = ax.plot(ts, Cx, 'r-', linewidth = 2, label ='Cx')\n",
        "func2 = ax.plot(ts, Cs, 'b-', linewidth = 2, label= 'Cs')\n",
        "func3 = ax.plot(ts, Cp, 'g-', linewidth = 2, label = 'Cp')\n",
        "ax.set_title(\"MODELO OTIMIZADO - ASSOCIADO AO CRESCIMENTO\", weight ='bold')  \n",
        "ax.set_xlabel('Tempo (h)',weight='bold')               \n",
        "ax.set_ylabel('Concentração (g/L)', weight='bold')\n",
        "ax.grid(True)  \n",
        "ax.legend(loc='upper center',ncol=2, shadow=True)\n",
        "f.set_figheight(5)                                                 \n",
        "f.set_figwidth(8)          \n",
        "plt.show()"
      ],
      "metadata": {
        "colab": {
          "base_uri": "https://localhost:8080/",
          "height": 352
        },
        "id": "0-4dsa73-l_P",
        "outputId": "3c711cbb-a8ca-4e13-8004-7122789532c1"
      },
      "execution_count": 162,
      "outputs": [
        {
          "output_type": "display_data",
          "data": {
            "text/plain": [
              "<Figure size 576x360 with 1 Axes>"
            ],
            "image/png": "[encoded data removed]"
          },
          "metadata": {
            "needs_background": "light"
          }
        }
      ]
    }
  ]
}
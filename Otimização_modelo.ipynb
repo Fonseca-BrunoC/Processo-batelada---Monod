{
  "nbformat": 4,
  "nbformat_minor": 0,
  "metadata": {
    "colab": {
      "name": "Otimização-modelo.ipynb",
      "provenance": [],
      "collapsed_sections": [],
      "authorship_tag": "ABX9TyPwGAEOjswxfzrENFD/twia",
      "include_colab_link": true
    },
    "kernelspec": {
      "name": "python3",
      "display_name": "Python 3"
    },
    "language_info": {
      "name": "python"
    }
  },
  "cells": [
    {
      "cell_type": "markdown",
      "metadata": {
        "id": "view-in-github",
        "colab_type": "text"
      },
      "source": [
        "<a href=\"https://colab.research.google.com/github/Fonseca-BrunoC/Processo-batelada---Monod/blob/main/Otimiza%C3%A7%C3%A3o_modelo.ipynb\" target=\"_parent\"><img src=\"https://colab.research.google.com/assets/colab-badge.svg\" alt=\"Open In Colab\"/></a>"
      ]
    },
    {
      "cell_type": "code",
      "execution_count": 297,
      "metadata": {
        "id": "UOoM3znhjzse"
      },
      "outputs": [],
      "source": [
        "#Importando as bibliotecas\n",
        "import numpy as np\n",
        "import matplotlib.pyplot as plt\n",
        "from scipy.optimize import differential_evolution\n",
        "from scipy.integrate import odeint"
      ]
    },
    {
      "cell_type": "code",
      "source": [
        "mimax = 0.5 #unidade 1/hora - taxa específica de crescimento\n",
        "Ks = 1.5 #constante de semi-saturação\n",
        "Yxs = 0.5 #coeficiente estequiométrico\n",
        "kd = 0.05 #constante de morte celular\n",
        "alfa = 0.5 #constante do produto associado ao crescimento\n",
        "beta = 0.2 #constante do produto não associado ao crescimento\n",
        "t = np.linspace(0, 24, 240)"
      ],
      "metadata": {
        "id": "9cy_mGCOqQIR"
      },
      "execution_count": 298,
      "outputs": []
    },
    {
      "cell_type": "code",
      "source": [
        "#Definindo as EDO's\n",
        "#Essa função será utilizada tanto para estimar os parâmetros quanto para testa-los\n",
        "def edo(C, t):\n",
        "  mi = mimax * (C[1] / (Ks + C[1])) #Monod\n",
        "  dCxdt = (mi - kd) * C[0] #eq para célula\n",
        "  dCsdt = - (1/Yxs) * (mi - kd) * C[0] #eq para o substrato\n",
        "  dCpdt = ((alfa * mi) + beta ) * C[0] #eq do produto parcialmente associado ao crescimento\n",
        "  return dCxdt, dCsdt, dCpdt"
      ],
      "metadata": {
        "id": "bKBX-C99j8z5"
      },
      "execution_count": 299,
      "outputs": []
    },
    {
      "cell_type": "code",
      "source": [
        "#Definindo a função resíduo que será aplicada na evolução diferencial\n",
        "objetivo = 30\n",
        "def rmse(I):\n",
        "  CI = I[0], I[1], 0\n",
        "  sim = odeint(edo, y0 = CI, t = t)\n",
        "  P = sim[:,2]\n",
        "  residuo = P[-1] - objetivo\n",
        "  residuo = np.sqrt((residuo ** 2))\n",
        "  return residuo"
      ],
      "metadata": {
        "id": "gz4_Fw49rSu6"
      },
      "execution_count": 300,
      "outputs": []
    },
    {
      "cell_type": "code",
      "source": [
        "limites = [(0, 10),(0, 100)] #limites para cada um dos parâmetros \n",
        "result = []\n",
        "n = 0\n",
        "while n <= 10:\n",
        "  ci = differential_evolution(rmse, limites, popsize=5,  tol=0.01, mutation=(0.5, 1), recombination=0.7, updating='immediate') #aplicando a evolução diferencial\n",
        "  Ci = ci.x\n",
        "  if Ci[0] > Ci[1]:\n",
        "    n = n\n",
        "  else:\n",
        "    result.append(Ci)\n",
        "    n = n + 1\n",
        "matrix_result = np.array(result)\n",
        "print(matrix_result)"
      ],
      "metadata": {
        "colab": {
          "base_uri": "https://localhost:8080/"
        },
        "id": "DO1Y6kQo22PI",
        "outputId": "b4064e6d-cc28-4681-d3cc-69ae32c65472"
      },
      "execution_count": 301,
      "outputs": [
        {
          "output_type": "stream",
          "name": "stdout",
          "text": [
            "[[ 1.294526    8.84270707]\n",
            " [ 0.85449889 10.09308653]\n",
            " [ 0.68302895 10.67729953]\n",
            " [ 1.60984575  8.06235899]\n",
            " [ 3.3025018   4.46032576]\n",
            " [ 3.56710595  3.93913246]\n",
            " [ 1.22584059  9.02257151]\n",
            " [ 0.99568094  9.66226181]\n",
            " [ 2.81196101  5.44671619]\n",
            " [ 0.48484956 11.49476296]\n",
            " [ 0.45758641 11.62642234]]\n"
          ]
        }
      ]
    },
    {
      "cell_type": "code",
      "source": [
        "#testando os resultados com uma simulação\n",
        "def edo2(C, t):\n",
        "  mi = mimax * (C[1] / (Ks + C[1])) #Monod\n",
        "  dCxdt = (mi - kd) * C[0] #eq para célula\n",
        "  dCsdt = - (1/Yxs) * (mi - kd) * C[0] #eq para o substrato\n",
        "  dCpdt = ((alfa * mi) + beta ) * C[0] #eq do produto parcialmente associado ao crescimento\n",
        "  return dCxdt, dCsdt, dCpdt"
      ],
      "metadata": {
        "id": "CazLgY4V-C1h"
      },
      "execution_count": 302,
      "outputs": []
    },
    {
      "cell_type": "code",
      "source": [
        "ts = np.linspace(0, 24, 300) #vetor tempo em horas\n",
        "Cis = (Ci[0], Ci[1], 0)\n",
        "sol = odeint(edo, Cis, ts)\n",
        "\n",
        "#Vetor com a concentração de células\n",
        "Cx = sol[:,0]\n",
        "#Vetor com a concentração de substrato\n",
        "Cs = sol[:,1]\n",
        "#Vetors com as concentrações de produto\n",
        "Cp = sol[:,2]"
      ],
      "metadata": {
        "id": "jowgpv-S-ORK"
      },
      "execution_count": 303,
      "outputs": []
    },
    {
      "cell_type": "code",
      "source": [
        "#Plotando o gráfico da solução\n",
        "f = plt.figure()     \n",
        "ax = f.add_subplot(111)  \n",
        "plt.rc('axes', titlesize=15)     \n",
        "plt.rc('axes', labelsize=10)   \n",
        "func = ax.plot(ts, Cx, 'r-', linewidth = 2, label ='Cx')\n",
        "func2 = ax.plot(ts, Cs, 'b-', linewidth = 2, label= 'Cs')\n",
        "func3 = ax.plot(ts, Cp, 'g-', linewidth = 2, label = 'Cp')\n",
        "ax.set_title(\"MODELO OTIMIZADO - PARCIALMENTE ASSOCIADO AO CRESCIMENTO\", weight ='bold')  \n",
        "ax.set_xlabel('Tempo (h)',weight='bold')               \n",
        "ax.set_ylabel('Concentração (g/L)', weight='bold')\n",
        "ax.grid(True)  \n",
        "ax.legend(loc='upper center',ncol=2, shadow=True)\n",
        "f.set_figheight(5)                                                 \n",
        "f.set_figwidth(8)          \n",
        "plt.show()"
      ],
      "metadata": {
        "colab": {
          "base_uri": "https://localhost:8080/",
          "height": 352
        },
        "id": "0-4dsa73-l_P",
        "outputId": "5d073d3c-902e-4f01-9c56-982f1c3aef03"
      },
      "execution_count": 304,
      "outputs": [
        {
          "output_type": "display_data",
          "data": {
            "text/plain": [
              "<Figure size 576x360 with 1 Axes>"
            ],
            "image/png": "[encoded data removed]"
          },
          "metadata": {
            "needs_background": "light"
          }
        }
      ]
    }
  ]
}